{
 "cells": [
  {
   "cell_type": "markdown",
   "id": "eca945a2-1b18-45f1-ac98-ca2a58d2ae5e",
   "metadata": {},
   "source": [
    "# Input-文本输入"
   ]
  },
  {
   "cell_type": "code",
   "execution_count": 1,
   "id": "95d3ba17-ee68-43ee-85aa-27b98450e3c6",
   "metadata": {},
   "outputs": [],
   "source": [
    "from pywebio.input import *\n",
    "from pywebio.output import *\n",
    "import json"
   ]
  },
  {
   "cell_type": "code",
   "execution_count": 2,
   "id": "c8ed4c5e-f630-4e76-adbc-9962267fae57",
   "metadata": {},
   "outputs": [
    {
     "data": {
      "text/plain": [
       "23"
      ]
     },
     "execution_count": 2,
     "metadata": {},
     "output_type": "execute_result"
    }
   ],
   "source": [
    "# validate\n",
    "def check_age(age):\n",
    "    if age>30:\n",
    "        return 'Too old'\n",
    "    elif age<10:\n",
    "        return 'Too young'\n",
    "input('Input your age', type=NUMBER, validate=check_age)"
   ]
  },
  {
   "cell_type": "code",
   "execution_count": 3,
   "id": "a1fd883f-c165-45ff-9a1c-a22dd5d85232",
   "metadata": {},
   "outputs": [
    {
     "data": {
      "text/plain": [
       "'13'"
      ]
     },
     "execution_count": 3,
     "metadata": {},
     "output_type": "execute_result"
    }
   ],
   "source": [
    "input('Input your age', value=\"请输入你的年龄\")"
   ]
  },
  {
   "cell_type": "code",
   "execution_count": 3,
   "id": "77523087-8ee3-4eec-9d01-d3fa989c5b9e",
   "metadata": {},
   "outputs": [
    {
     "name": "stdout",
     "output_type": "stream",
     "text": [
      "2021-11-25 16:57:36\n"
     ]
    }
   ],
   "source": [
    "# 单击事件\n",
    "import time\n",
    "def set_now_ts(set_value):\n",
    "    set_value(time.strftime('%Y-%m-%d %H:%M:%S', time.localtime()))\n",
    "\n",
    "ts = input('Timestamp', type=TEXT, action=('Now', set_now_ts))\n",
    "print(ts)"
   ]
  },
  {
   "cell_type": "code",
   "execution_count": null,
   "id": "a09b1e98-46ba-4156-aa04-bb06a3de9da0",
   "metadata": {},
   "outputs": [],
   "source": [
    "import time\n",
    "def set_now_ts(set_value):\n",
    "    set_value(time.strftime('%Y-%m-%d %H:%M:%S', time.localtime()))\n",
    "\n",
    "ts = input('Timestamp', type=TEXT, action=('Now', set_now_ts), placeholder = \"点击右边就能看到现在时间哦~\", help_text = \"小鲁班,哒哒哒\")"
   ]
  },
  {
   "cell_type": "markdown",
   "id": "79be63e0-94e5-4fb6-8cec-b9d3fdc8ab78",
   "metadata": {},
   "source": [
    "# textarea-多行文本输入"
   ]
  },
  {
   "cell_type": "code",
   "execution_count": 2,
   "id": "7f54d0cd-9fb0-4952-a392-55852d973322",
   "metadata": {},
   "outputs": [],
   "source": [
    "res = textarea('Text area', code={\n",
    "    'mode': \"python\",\n",
    "    'theme': 'darcula'\n",
    "})"
   ]
  },
  {
   "cell_type": "markdown",
   "id": "6653dd43-9589-4664-bf3d-352d05b2843f",
   "metadata": {},
   "source": [
    "# select 下拉选择框"
   ]
  },
  {
   "cell_type": "code",
   "execution_count": 5,
   "id": "fae2a0c8-2090-442a-8380-eea82abef4aa",
   "metadata": {},
   "outputs": [],
   "source": [
    "# 单选-列表\n",
    "sel = select(\"看你的选择：\", [\"A\",\"B\"])"
   ]
  },
  {
   "cell_type": "code",
   "execution_count": 4,
   "id": "a142ff2f-9420-47c9-8e38-991ffca5ae34",
   "metadata": {},
   "outputs": [],
   "source": [
    "#列表\n",
    "#sel = select(label=\"dda\",options=[['dd','dd',False,True],['ee','ee',False,False],['ff','ff',True,True]])\n",
    "#元祖\n",
    "#sel = select(label=\"dda\",options=[('dd','dd',True,True),('ee','ee',False,False),('ff','ff',False,True)])\n",
    "#字典\n",
    "sel = select(label=\"dda\",options=[{\"label\":'dd',\"value\":'dd',\"selected\":True,\"disabled\":True},{\"label\":'ee',\"value\":'ee',\"selected\":False,\"disabled\":False},{\"label\":'ff',\"value\":'ff',\"selected\":False,\"disabled\":True}])"
   ]
  },
  {
   "cell_type": "code",
   "execution_count": 6,
   "id": "133cb432-dab3-4c68-abfd-de79f8c255ad",
   "metadata": {},
   "outputs": [],
   "source": [
    "# 多选-列表\n",
    "sel = select(\"我是多选：\", [\"A\",\"B\",\"C\"], multiple=True, value=[\"A\",\"B\"])"
   ]
  },
  {
   "cell_type": "markdown",
   "id": "70703b8b-1e23-4034-9ae5-edfbe4078dd0",
   "metadata": {},
   "source": [
    "# checkbox 勾选选项"
   ]
  },
  {
   "cell_type": "code",
   "execution_count": 2,
   "id": "175c456d-0995-4740-991d-f22f6cc9e222",
   "metadata": {},
   "outputs": [
    {
     "name": "stdout",
     "output_type": "stream",
     "text": [
      "[]\n"
     ]
    }
   ],
   "source": [
    "#可以多选，也可以不选，返回的是一个列表\n",
    "check = checkbox(\"请大佬选择：\",[\"小鲁班\",\"小背包\",\"哒哒哒\",\"小火箭\"])\n",
    "print(check)"
   ]
  },
  {
   "cell_type": "code",
   "execution_count": 3,
   "id": "4993fced-ee1b-4db0-8998-8c5086d281c7",
   "metadata": {
    "tags": []
   },
   "outputs": [],
   "source": [
    "check = checkbox(\"请大佬选择：\",[\"小鲁班\",\"小背包\",\"哒哒哒\",\"小火箭\"],inline=True,value=['小鲁班'])"
   ]
  },
  {
   "cell_type": "markdown",
   "id": "9070c18d-ae4c-4af2-871d-745510f07e74",
   "metadata": {},
   "source": [
    "# radio 单选选项"
   ]
  },
  {
   "cell_type": "code",
   "execution_count": 4,
   "id": "949925d4-c060-4c1c-bffc-aeb605a0eac0",
   "metadata": {},
   "outputs": [
    {
     "data": {
      "text/plain": [
       "'小背包'"
      ]
     },
     "execution_count": 4,
     "metadata": {},
     "output_type": "execute_result"
    }
   ],
   "source": [
    "radio(\"请大佬选择：\",[\"小鲁班\",\"小背包\",\"哒哒哒\",\"小火箭\"],inline=True,value=['小背包'])"
   ]
  },
  {
   "cell_type": "markdown",
   "id": "b6811792-a516-477a-90a3-dc1dc6edaa43",
   "metadata": {},
   "source": [
    "# actions 按钮选项"
   ]
  },
  {
   "cell_type": "code",
   "execution_count": 10,
   "id": "03b004ea-1ff0-4782-ad16-25ccafe9d3a4",
   "metadata": {},
   "outputs": [],
   "source": [
    "# 简单的操作\n",
    "confirm = actions('Confirm to delete file?', ['confirm', 'cancel'],\n",
    "                      help_text='Unrecoverable after file deletion')\n",
    "put_markdown('You clicked the `%s` button' % confirm).show() "
   ]
  },
  {
   "cell_type": "code",
   "execution_count": 4,
   "id": "a11c3165-5e8a-42ae-8719-7072e5679164",
   "metadata": {},
   "outputs": [],
   "source": [
    "# 替换默认的提交按钮\n",
    "# 若 type='reset'/'cancel' 或 disabled=True 可省略 value\n",
    "info = input_group('Add user', [\n",
    "    input('username', type=TEXT, name='username', required=True),\n",
    "    input('password', type=PASSWORD, name='password', required=True),\n",
    "    actions('actions', [\n",
    "        {'label': 'Save', 'value': 'save'},\n",
    "        {'label': 'Save and add next', 'value': 'save_and_continue'},\n",
    "        {'label': 'Reset', 'type': 'reset', 'color': 'warning'},\n",
    "        {'label': 'Cancel', 'type': 'cancel', 'color': 'danger'},\n",
    "    ], name='action', help_text='actions'),\n",
    "])\n",
    "put_code('info = ' + json.dumps(info, indent=4))\n",
    "if info is not None:\n",
    "    #save_user(info['username'], info['password'])  \n",
    "    if info['action'] == 'save_and_continue':\n",
    "        add_next()  "
   ]
  },
  {
   "cell_type": "code",
   "execution_count": null,
   "id": "b7d2c447-2048-4e50-9d9c-5a145b683c2a",
   "metadata": {},
   "outputs": [],
   "source": []
  }
 ],
 "metadata": {
  "kernelspec": {
   "display_name": "Python 3 (ipykernel)",
   "language": "python",
   "name": "python3"
  },
  "language_info": {
   "codemirror_mode": {
    "name": "ipython",
    "version": 3
   },
   "file_extension": ".py",
   "mimetype": "text/x-python",
   "name": "python",
   "nbconvert_exporter": "python",
   "pygments_lexer": "ipython3",
   "version": "3.7.10"
  }
 },
 "nbformat": 4,
 "nbformat_minor": 5
}
