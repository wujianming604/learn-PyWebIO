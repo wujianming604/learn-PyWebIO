{
 "cells": [
  {
   "cell_type": "markdown",
   "id": "eca945a2-1b18-45f1-ac98-ca2a58d2ae5e",
   "metadata": {},
   "source": [
    "# Input-文本输入"
   ]
  },
  {
   "cell_type": "code",
   "execution_count": 2,
   "id": "95d3ba17-ee68-43ee-85aa-27b98450e3c6",
   "metadata": {},
   "outputs": [],
   "source": [
    "from pywebio.input import *\n",
    "from pywebio.output import *\n",
    "import json"
   ]
  },
  {
   "cell_type": "code",
   "execution_count": 2,
   "id": "c8ed4c5e-f630-4e76-adbc-9962267fae57",
   "metadata": {},
   "outputs": [
    {
     "data": {
      "text/plain": [
       "23"
      ]
     },
     "execution_count": 2,
     "metadata": {},
     "output_type": "execute_result"
    }
   ],
   "source": [
    "# validate\n",
    "def check_age(age):\n",
    "    if age>30:\n",
    "        return 'Too old'\n",
    "    elif age<10:\n",
    "        return 'Too young'\n",
    "input('Input your age', type=NUMBER, validate=check_age)"
   ]
  },
  {
   "cell_type": "code",
   "execution_count": 3,
   "id": "a1fd883f-c165-45ff-9a1c-a22dd5d85232",
   "metadata": {},
   "outputs": [
    {
     "data": {
      "text/plain": [
       "'13'"
      ]
     },
     "execution_count": 3,
     "metadata": {},
     "output_type": "execute_result"
    }
   ],
   "source": [
    "input('Input your age', value=\"请输入你的年龄\")"
   ]
  },
  {
   "cell_type": "code",
   "execution_count": 3,
   "id": "77523087-8ee3-4eec-9d01-d3fa989c5b9e",
   "metadata": {},
   "outputs": [
    {
     "name": "stdout",
     "output_type": "stream",
     "text": [
      "2021-11-25 16:57:36\n"
     ]
    }
   ],
   "source": [
    "# 单击事件\n",
    "import time\n",
    "def set_now_ts(set_value):\n",
    "    set_value(time.strftime('%Y-%m-%d %H:%M:%S', time.localtime()))\n",
    "\n",
    "ts = input('Timestamp', type=TEXT, action=('Now', set_now_ts))\n",
    "print(ts)"
   ]
  },
  {
   "cell_type": "code",
   "execution_count": null,
   "id": "a09b1e98-46ba-4156-aa04-bb06a3de9da0",
   "metadata": {},
   "outputs": [],
   "source": [
    "import time\n",
    "def set_now_ts(set_value):\n",
    "    set_value(time.strftime('%Y-%m-%d %H:%M:%S', time.localtime()))\n",
    "\n",
    "ts = input('Timestamp', type=TEXT, action=('Now', set_now_ts), placeholder = \"点击右边就能看到现在时间哦~\", help_text = \"小鲁班,哒哒哒\")"
   ]
  },
  {
   "cell_type": "markdown",
   "id": "79be63e0-94e5-4fb6-8cec-b9d3fdc8ab78",
   "metadata": {},
   "source": [
    "# textarea-多行文本输入"
   ]
  },
  {
   "cell_type": "code",
   "execution_count": 2,
   "id": "7f54d0cd-9fb0-4952-a392-55852d973322",
   "metadata": {},
   "outputs": [],
   "source": [
    "res = textarea('Text area', code={\n",
    "    'mode': \"python\",\n",
    "    'theme': 'darcula'\n",
    "})"
   ]
  },
  {
   "cell_type": "markdown",
   "id": "6653dd43-9589-4664-bf3d-352d05b2843f",
   "metadata": {},
   "source": [
    "# select 下拉选择框"
   ]
  },
  {
   "cell_type": "code",
   "execution_count": 5,
   "id": "fae2a0c8-2090-442a-8380-eea82abef4aa",
   "metadata": {},
   "outputs": [],
   "source": [
    "# 单选-列表\n",
    "sel = select(\"看你的选择：\", [\"A\",\"B\"])"
   ]
  },
  {
   "cell_type": "code",
   "execution_count": 4,
   "id": "a142ff2f-9420-47c9-8e38-991ffca5ae34",
   "metadata": {},
   "outputs": [],
   "source": [
    "#列表\n",
    "#sel = select(label=\"dda\",options=[['dd','dd',False,True],['ee','ee',False,False],['ff','ff',True,True]])\n",
    "#元祖\n",
    "#sel = select(label=\"dda\",options=[('dd','dd',True,True),('ee','ee',False,False),('ff','ff',False,True)])\n",
    "#字典\n",
    "sel = select(label=\"dda\",options=[{\"label\":'dd',\"value\":'dd',\"selected\":True,\"disabled\":True},{\"label\":'ee',\"value\":'ee',\"selected\":False,\"disabled\":False},{\"label\":'ff',\"value\":'ff',\"selected\":False,\"disabled\":True}])"
   ]
  },
  {
   "cell_type": "code",
   "execution_count": 6,
   "id": "133cb432-dab3-4c68-abfd-de79f8c255ad",
   "metadata": {},
   "outputs": [],
   "source": [
    "# 多选-列表\n",
    "sel = select(\"我是多选：\", [\"A\",\"B\",\"C\"], multiple=True, value=[\"A\",\"B\"])"
   ]
  },
  {
   "cell_type": "markdown",
   "id": "70703b8b-1e23-4034-9ae5-edfbe4078dd0",
   "metadata": {},
   "source": [
    "# checkbox 勾选选项"
   ]
  },
  {
   "cell_type": "code",
   "execution_count": 2,
   "id": "175c456d-0995-4740-991d-f22f6cc9e222",
   "metadata": {},
   "outputs": [
    {
     "name": "stdout",
     "output_type": "stream",
     "text": [
      "[]\n"
     ]
    }
   ],
   "source": [
    "#可以多选，也可以不选，返回的是一个列表\n",
    "check = checkbox(\"请大佬选择：\",[\"小鲁班\",\"小背包\",\"哒哒哒\",\"小火箭\"])\n",
    "print(check)"
   ]
  },
  {
   "cell_type": "code",
   "execution_count": 3,
   "id": "4993fced-ee1b-4db0-8998-8c5086d281c7",
   "metadata": {
    "tags": []
   },
   "outputs": [],
   "source": [
    "check = checkbox(\"请大佬选择：\",[\"小鲁班\",\"小背包\",\"哒哒哒\",\"小火箭\"],inline=True,value=['小鲁班'])"
   ]
  },
  {
   "cell_type": "markdown",
   "id": "9070c18d-ae4c-4af2-871d-745510f07e74",
   "metadata": {},
   "source": [
    "# radio 单选选项"
   ]
  },
  {
   "cell_type": "code",
   "execution_count": 4,
   "id": "949925d4-c060-4c1c-bffc-aeb605a0eac0",
   "metadata": {},
   "outputs": [
    {
     "data": {
      "text/plain": [
       "'小背包'"
      ]
     },
     "execution_count": 4,
     "metadata": {},
     "output_type": "execute_result"
    }
   ],
   "source": [
    "radio(\"请大佬选择：\",[\"小鲁班\",\"小背包\",\"哒哒哒\",\"小火箭\"],inline=True,value=['小背包'])"
   ]
  },
  {
   "cell_type": "markdown",
   "id": "b6811792-a516-477a-90a3-dc1dc6edaa43",
   "metadata": {},
   "source": [
    "# actions 按钮选项"
   ]
  },
  {
   "cell_type": "code",
   "execution_count": 10,
   "id": "03b004ea-1ff0-4782-ad16-25ccafe9d3a4",
   "metadata": {},
   "outputs": [],
   "source": [
    "# 简单的操作\n",
    "confirm = actions('Confirm to delete file?', ['confirm', 'cancel'],\n",
    "                      help_text='Unrecoverable after file deletion')\n",
    "put_markdown('You clicked the `%s` button' % confirm).show() "
   ]
  },
  {
   "cell_type": "code",
   "execution_count": 4,
   "id": "a11c3165-5e8a-42ae-8719-7072e5679164",
   "metadata": {},
   "outputs": [],
   "source": [
    "# 替换默认的提交按钮\n",
    "# 若 type='reset'/'cancel' 或 disabled=True 可省略 value\n",
    "info = input_group('Add user', [\n",
    "    input('username', type=TEXT, name='username', required=True),\n",
    "    input('password', type=PASSWORD, name='password', required=True),\n",
    "    actions('actions', [\n",
    "        {'label': 'Save', 'value': 'save'},\n",
    "        {'label': 'Save and add next', 'value': 'save_and_continue'},\n",
    "        {'label': 'Reset', 'type': 'reset', 'color': 'warning'},\n",
    "        {'label': 'Cancel', 'type': 'cancel', 'color': 'danger'},\n",
    "    ], name='action', help_text='actions'),\n",
    "])\n",
    "put_code('info = ' + json.dumps(info, indent=4))\n",
    "if info is not None:\n",
    "    #save_user(info['username'], info['password'])  \n",
    "    if info['action'] == 'save_and_continue':\n",
    "        add_next()  "
   ]
  },
  {
   "cell_type": "markdown",
   "id": "bbfe8be3-e070-43ea-80ef-3d3aed3019a5",
   "metadata": {},
   "source": [
    "# slider 滑块输入"
   ]
  },
  {
   "cell_type": "code",
   "execution_count": 3,
   "id": "d8b334a2-97f1-4f61-b800-971327afcb1c",
   "metadata": {},
   "outputs": [
    {
     "data": {
      "text/plain": [
       "23"
      ]
     },
     "execution_count": 3,
     "metadata": {},
     "output_type": "execute_result"
    }
   ],
   "source": [
    "slider(label=\"请选择数值：\",value=5, min_value=1, max_value=100, step=1)"
   ]
  },
  {
   "cell_type": "markdown",
   "id": "43451b5a-0595-4e64-9293-b63a1b2198c1",
   "metadata": {},
   "source": [
    "# file_upload 文件上传"
   ]
  },
  {
   "cell_type": "code",
   "execution_count": 2,
   "id": "369d5c20-21b1-4287-afd8-e12748993b01",
   "metadata": {},
   "outputs": [
    {
     "name": "stdout",
     "output_type": "stream",
     "text": [
      "我是小鲁班\n",
      "\n",
      "有本事你打我。\n"
     ]
    }
   ],
   "source": [
    "#Upload a txt file，utf-8 format\n",
    "txtFile = file_upload(\"Select some txtFile:\")\n",
    "\n",
    "with open(txtFile['filename'],'r',encoding='utf-8') as FA:\n",
    "    for line in FA:\n",
    "        print(line)"
   ]
  },
  {
   "cell_type": "code",
   "execution_count": 4,
   "id": "f2439999-dc34-4455-a83b-72f8884497cb",
   "metadata": {},
   "outputs": [
    {
     "name": "stdout",
     "output_type": "stream",
     "text": [
      "     sample_id     sample_name  dedup_rate\n",
      "0           40  NY200110375677   83.019632\n",
      "1           42  NY200113332437   85.200889\n",
      "2           41  NY200113145434   86.479412\n",
      "3           46  NY200113417371   77.675061\n",
      "4           45  NY200113143818   75.827790\n",
      "..         ...             ...         ...\n",
      "178        280  NY200113342559   82.890792\n",
      "179        284  NY191124020459   83.147656\n",
      "180        285  NY200113225579   81.154505\n",
      "181        286  NY200729904794   79.419813\n",
      "182        287  NY200110424631   82.255647\n",
      "\n",
      "[183 rows x 3 columns]\n"
     ]
    }
   ],
   "source": [
    "#Upload xlsx file ，use pandas\n",
    "import pandas as pd\n",
    "xlsxFile = file_upload(\"Select some xlsxFile:\")\n",
    "data = pd.read_excel(xlsxFile['filename'])\n",
    "print(data)"
   ]
  },
  {
   "cell_type": "code",
   "execution_count": 9,
   "id": "5d6bb006-6b44-4526-b6d2-4273d0ceab10",
   "metadata": {},
   "outputs": [
    {
     "ename": "SessionClosedException",
     "evalue": "",
     "output_type": "error",
     "traceback": [
      "\u001b[1;31m---------------------------------------------------------------------------\u001b[0m",
      "\u001b[1;31mSessionClosedException\u001b[0m                    Traceback (most recent call last)",
      "\u001b[1;32m~\\AppData\\Local\\Temp/ipykernel_3232/1608512995.py\u001b[0m in \u001b[0;36m<module>\u001b[1;34m\u001b[0m\n\u001b[0;32m      1\u001b[0m \u001b[1;31m# Upload a file and save to server\u001b[0m\u001b[1;33m\u001b[0m\u001b[1;33m\u001b[0m\u001b[1;33m\u001b[0m\u001b[0m\n\u001b[1;32m----> 2\u001b[1;33m \u001b[0mf\u001b[0m \u001b[1;33m=\u001b[0m \u001b[0mfile_upload\u001b[0m\u001b[1;33m(\u001b[0m\u001b[1;34m\"Upload a image\"\u001b[0m\u001b[1;33m)\u001b[0m\u001b[1;33m\u001b[0m\u001b[1;33m\u001b[0m\u001b[0m\n\u001b[0m\u001b[0;32m      3\u001b[0m \u001b[0mopen\u001b[0m\u001b[1;33m(\u001b[0m\u001b[0mf\u001b[0m\u001b[1;33m[\u001b[0m\u001b[1;34m'filename'\u001b[0m\u001b[1;33m]\u001b[0m\u001b[1;33m,\u001b[0m \u001b[1;34m'wb'\u001b[0m\u001b[1;33m)\u001b[0m\u001b[1;33m.\u001b[0m\u001b[0mwrite\u001b[0m\u001b[1;33m(\u001b[0m\u001b[0mf\u001b[0m\u001b[1;33m[\u001b[0m\u001b[1;34m'content'\u001b[0m\u001b[1;33m]\u001b[0m\u001b[1;33m)\u001b[0m\u001b[1;33m\u001b[0m\u001b[1;33m\u001b[0m\u001b[0m\n\u001b[0;32m      4\u001b[0m \u001b[1;33m\u001b[0m\u001b[0m\n\u001b[0;32m      5\u001b[0m \u001b[0mimgs\u001b[0m \u001b[1;33m=\u001b[0m \u001b[0mfile_upload\u001b[0m\u001b[1;33m(\u001b[0m\u001b[1;34m\"Select some pictures:\"\u001b[0m\u001b[1;33m,\u001b[0m \u001b[0maccept\u001b[0m\u001b[1;33m=\u001b[0m\u001b[1;34m\"image/*\"\u001b[0m\u001b[1;33m,\u001b[0m \u001b[0mmultiple\u001b[0m\u001b[1;33m=\u001b[0m\u001b[1;32mTrue\u001b[0m\u001b[1;33m)\u001b[0m\u001b[1;33m\u001b[0m\u001b[1;33m\u001b[0m\u001b[0m\n",
      "\u001b[1;32md:\\softwareinstall\\miniconda37\\lib\\site-packages\\pywebio\\input.py\u001b[0m in \u001b[0;36mfile_upload\u001b[1;34m(label, accept, name, placeholder, multiple, max_size, max_total_size, required, help_text, **other_html_attrs)\u001b[0m\n\u001b[0;32m    612\u001b[0m         \u001b[1;32mreturn\u001b[0m \u001b[0mdata\u001b[0m\u001b[1;33m\u001b[0m\u001b[1;33m\u001b[0m\u001b[0m\n\u001b[0;32m    613\u001b[0m \u001b[1;33m\u001b[0m\u001b[0m\n\u001b[1;32m--> 614\u001b[1;33m     \u001b[1;32mreturn\u001b[0m \u001b[0msingle_input\u001b[0m\u001b[1;33m(\u001b[0m\u001b[0mitem_spec\u001b[0m\u001b[1;33m,\u001b[0m \u001b[0mvalid_func\u001b[0m\u001b[1;33m,\u001b[0m \u001b[0mread_file\u001b[0m\u001b[1;33m,\u001b[0m \u001b[0monchange_func\u001b[0m\u001b[1;33m)\u001b[0m\u001b[1;33m\u001b[0m\u001b[1;33m\u001b[0m\u001b[0m\n\u001b[0m\u001b[0;32m    615\u001b[0m \u001b[1;33m\u001b[0m\u001b[0m\n\u001b[0;32m    616\u001b[0m \u001b[1;33m\u001b[0m\u001b[0m\n",
      "\u001b[1;32md:\\softwareinstall\\miniconda37\\lib\\site-packages\\pywebio\\session\\__init__.py\u001b[0m in \u001b[0;36minner\u001b[1;34m(*args, **kwargs)\u001b[0m\n\u001b[0;32m    281\u001b[0m             \u001b[1;32mreturn\u001b[0m \u001b[0mto_coroutine\u001b[0m\u001b[1;33m(\u001b[0m\u001b[0mgen\u001b[0m\u001b[1;33m)\u001b[0m\u001b[1;33m\u001b[0m\u001b[1;33m\u001b[0m\u001b[0m\n\u001b[0;32m    282\u001b[0m         \u001b[1;32melse\u001b[0m\u001b[1;33m:\u001b[0m\u001b[1;33m\u001b[0m\u001b[1;33m\u001b[0m\u001b[0m\n\u001b[1;32m--> 283\u001b[1;33m             \u001b[1;32mreturn\u001b[0m \u001b[0mrun_as_function\u001b[0m\u001b[1;33m(\u001b[0m\u001b[0mgen\u001b[0m\u001b[1;33m)\u001b[0m\u001b[1;33m\u001b[0m\u001b[1;33m\u001b[0m\u001b[0m\n\u001b[0m\u001b[0;32m    284\u001b[0m \u001b[1;33m\u001b[0m\u001b[0m\n\u001b[0;32m    285\u001b[0m     \u001b[1;32mreturn\u001b[0m \u001b[0minner\u001b[0m\u001b[1;33m\u001b[0m\u001b[1;33m\u001b[0m\u001b[0m\n",
      "\u001b[1;32md:\\softwareinstall\\miniconda37\\lib\\site-packages\\pywebio\\utils.py\u001b[0m in \u001b[0;36mrun_as_function\u001b[1;34m(gen)\u001b[0m\n\u001b[0;32m    294\u001b[0m     \u001b[1;32mwhile\u001b[0m \u001b[1;36m1\u001b[0m\u001b[1;33m:\u001b[0m\u001b[1;33m\u001b[0m\u001b[1;33m\u001b[0m\u001b[0m\n\u001b[0;32m    295\u001b[0m         \u001b[1;32mtry\u001b[0m\u001b[1;33m:\u001b[0m\u001b[1;33m\u001b[0m\u001b[1;33m\u001b[0m\u001b[0m\n\u001b[1;32m--> 296\u001b[1;33m             \u001b[0mres\u001b[0m \u001b[1;33m=\u001b[0m \u001b[0mgen\u001b[0m\u001b[1;33m.\u001b[0m\u001b[0msend\u001b[0m\u001b[1;33m(\u001b[0m\u001b[0mres\u001b[0m\u001b[1;33m)\u001b[0m\u001b[1;33m\u001b[0m\u001b[1;33m\u001b[0m\u001b[0m\n\u001b[0m\u001b[0;32m    297\u001b[0m         \u001b[1;32mexcept\u001b[0m \u001b[0mStopIteration\u001b[0m \u001b[1;32mas\u001b[0m \u001b[0me\u001b[0m\u001b[1;33m:\u001b[0m\u001b[1;33m\u001b[0m\u001b[1;33m\u001b[0m\u001b[0m\n\u001b[0;32m    298\u001b[0m             \u001b[1;32mif\u001b[0m \u001b[0mlen\u001b[0m\u001b[1;33m(\u001b[0m\u001b[0me\u001b[0m\u001b[1;33m.\u001b[0m\u001b[0margs\u001b[0m\u001b[1;33m)\u001b[0m \u001b[1;33m==\u001b[0m \u001b[1;36m1\u001b[0m\u001b[1;33m:\u001b[0m\u001b[1;33m\u001b[0m\u001b[1;33m\u001b[0m\u001b[0m\n",
      "\u001b[1;32md:\\softwareinstall\\miniconda37\\lib\\site-packages\\pywebio\\io_ctrl.py\u001b[0m in \u001b[0;36msingle_input\u001b[1;34m(item_spec, valid_func, preprocess_func, onchange_func)\u001b[0m\n\u001b[0;32m    250\u001b[0m                                \u001b[0mpreprocess_funcs\u001b[0m\u001b[1;33m=\u001b[0m\u001b[1;33m{\u001b[0m\u001b[0mname\u001b[0m\u001b[1;33m:\u001b[0m \u001b[0mpreprocess_func\u001b[0m\u001b[1;33m}\u001b[0m\u001b[1;33m,\u001b[0m\u001b[1;33m\u001b[0m\u001b[1;33m\u001b[0m\u001b[0m\n\u001b[0;32m    251\u001b[0m                                \u001b[0mitem_valid_funcs\u001b[0m\u001b[1;33m=\u001b[0m\u001b[1;33m{\u001b[0m\u001b[0mname\u001b[0m\u001b[1;33m:\u001b[0m \u001b[0mvalid_func\u001b[0m\u001b[1;33m}\u001b[0m\u001b[1;33m,\u001b[0m\u001b[1;33m\u001b[0m\u001b[1;33m\u001b[0m\u001b[0m\n\u001b[1;32m--> 252\u001b[1;33m                                onchange_funcs={name: onchange_func})\n\u001b[0m\u001b[0;32m    253\u001b[0m     \u001b[1;32mreturn\u001b[0m \u001b[0mdata\u001b[0m\u001b[1;33m[\u001b[0m\u001b[0mname\u001b[0m\u001b[1;33m]\u001b[0m\u001b[1;33m\u001b[0m\u001b[1;33m\u001b[0m\u001b[0m\n\u001b[0;32m    254\u001b[0m \u001b[1;33m\u001b[0m\u001b[0m\n",
      "\u001b[1;32md:\\softwareinstall\\miniconda37\\lib\\site-packages\\pywebio\\session\\__init__.py\u001b[0m in \u001b[0;36minner\u001b[1;34m(*args, **kwargs)\u001b[0m\n\u001b[0;32m    281\u001b[0m             \u001b[1;32mreturn\u001b[0m \u001b[0mto_coroutine\u001b[0m\u001b[1;33m(\u001b[0m\u001b[0mgen\u001b[0m\u001b[1;33m)\u001b[0m\u001b[1;33m\u001b[0m\u001b[1;33m\u001b[0m\u001b[0m\n\u001b[0;32m    282\u001b[0m         \u001b[1;32melse\u001b[0m\u001b[1;33m:\u001b[0m\u001b[1;33m\u001b[0m\u001b[1;33m\u001b[0m\u001b[0m\n\u001b[1;32m--> 283\u001b[1;33m             \u001b[1;32mreturn\u001b[0m \u001b[0mrun_as_function\u001b[0m\u001b[1;33m(\u001b[0m\u001b[0mgen\u001b[0m\u001b[1;33m)\u001b[0m\u001b[1;33m\u001b[0m\u001b[1;33m\u001b[0m\u001b[0m\n\u001b[0m\u001b[0;32m    284\u001b[0m \u001b[1;33m\u001b[0m\u001b[0m\n\u001b[0;32m    285\u001b[0m     \u001b[1;32mreturn\u001b[0m \u001b[0minner\u001b[0m\u001b[1;33m\u001b[0m\u001b[1;33m\u001b[0m\u001b[0m\n",
      "\u001b[1;32md:\\softwareinstall\\miniconda37\\lib\\site-packages\\pywebio\\utils.py\u001b[0m in \u001b[0;36mrun_as_function\u001b[1;34m(gen)\u001b[0m\n\u001b[0;32m    294\u001b[0m     \u001b[1;32mwhile\u001b[0m \u001b[1;36m1\u001b[0m\u001b[1;33m:\u001b[0m\u001b[1;33m\u001b[0m\u001b[1;33m\u001b[0m\u001b[0m\n\u001b[0;32m    295\u001b[0m         \u001b[1;32mtry\u001b[0m\u001b[1;33m:\u001b[0m\u001b[1;33m\u001b[0m\u001b[1;33m\u001b[0m\u001b[0m\n\u001b[1;32m--> 296\u001b[1;33m             \u001b[0mres\u001b[0m \u001b[1;33m=\u001b[0m \u001b[0mgen\u001b[0m\u001b[1;33m.\u001b[0m\u001b[0msend\u001b[0m\u001b[1;33m(\u001b[0m\u001b[0mres\u001b[0m\u001b[1;33m)\u001b[0m\u001b[1;33m\u001b[0m\u001b[1;33m\u001b[0m\u001b[0m\n\u001b[0m\u001b[0;32m    297\u001b[0m         \u001b[1;32mexcept\u001b[0m \u001b[0mStopIteration\u001b[0m \u001b[1;32mas\u001b[0m \u001b[0me\u001b[0m\u001b[1;33m:\u001b[0m\u001b[1;33m\u001b[0m\u001b[1;33m\u001b[0m\u001b[0m\n\u001b[0;32m    298\u001b[0m             \u001b[1;32mif\u001b[0m \u001b[0mlen\u001b[0m\u001b[1;33m(\u001b[0m\u001b[0me\u001b[0m\u001b[1;33m.\u001b[0m\u001b[0margs\u001b[0m\u001b[1;33m)\u001b[0m \u001b[1;33m==\u001b[0m \u001b[1;36m1\u001b[0m\u001b[1;33m:\u001b[0m\u001b[1;33m\u001b[0m\u001b[1;33m\u001b[0m\u001b[0m\n",
      "\u001b[1;32md:\\softwareinstall\\miniconda37\\lib\\site-packages\\pywebio\\io_ctrl.py\u001b[0m in \u001b[0;36minput_control\u001b[1;34m(spec, preprocess_funcs, item_valid_funcs, onchange_funcs, form_valid_funcs)\u001b[0m\n\u001b[0;32m    267\u001b[0m     \u001b[0msend_msg\u001b[0m\u001b[1;33m(\u001b[0m\u001b[1;34m'input_group'\u001b[0m\u001b[1;33m,\u001b[0m \u001b[0mspec\u001b[0m\u001b[1;33m)\u001b[0m\u001b[1;33m\u001b[0m\u001b[1;33m\u001b[0m\u001b[0m\n\u001b[0;32m    268\u001b[0m \u001b[1;33m\u001b[0m\u001b[0m\n\u001b[1;32m--> 269\u001b[1;33m     \u001b[0mdata\u001b[0m \u001b[1;33m=\u001b[0m \u001b[1;32myield\u001b[0m \u001b[0minput_event_handle\u001b[0m\u001b[1;33m(\u001b[0m\u001b[0mitem_valid_funcs\u001b[0m\u001b[1;33m,\u001b[0m \u001b[0mform_valid_funcs\u001b[0m\u001b[1;33m,\u001b[0m \u001b[0mpreprocess_funcs\u001b[0m\u001b[1;33m,\u001b[0m \u001b[0monchange_funcs\u001b[0m\u001b[1;33m)\u001b[0m\u001b[1;33m\u001b[0m\u001b[1;33m\u001b[0m\u001b[0m\n\u001b[0m\u001b[0;32m    270\u001b[0m \u001b[1;33m\u001b[0m\u001b[0m\n\u001b[0;32m    271\u001b[0m     \u001b[0msend_msg\u001b[0m\u001b[1;33m(\u001b[0m\u001b[1;34m'destroy_form'\u001b[0m\u001b[1;33m)\u001b[0m\u001b[1;33m\u001b[0m\u001b[1;33m\u001b[0m\u001b[0m\n",
      "\u001b[1;32md:\\softwareinstall\\miniconda37\\lib\\site-packages\\pywebio\\session\\__init__.py\u001b[0m in \u001b[0;36minner\u001b[1;34m(*args, **kwargs)\u001b[0m\n\u001b[0;32m    281\u001b[0m             \u001b[1;32mreturn\u001b[0m \u001b[0mto_coroutine\u001b[0m\u001b[1;33m(\u001b[0m\u001b[0mgen\u001b[0m\u001b[1;33m)\u001b[0m\u001b[1;33m\u001b[0m\u001b[1;33m\u001b[0m\u001b[0m\n\u001b[0;32m    282\u001b[0m         \u001b[1;32melse\u001b[0m\u001b[1;33m:\u001b[0m\u001b[1;33m\u001b[0m\u001b[1;33m\u001b[0m\u001b[0m\n\u001b[1;32m--> 283\u001b[1;33m             \u001b[1;32mreturn\u001b[0m \u001b[0mrun_as_function\u001b[0m\u001b[1;33m(\u001b[0m\u001b[0mgen\u001b[0m\u001b[1;33m)\u001b[0m\u001b[1;33m\u001b[0m\u001b[1;33m\u001b[0m\u001b[0m\n\u001b[0m\u001b[0;32m    284\u001b[0m \u001b[1;33m\u001b[0m\u001b[0m\n\u001b[0;32m    285\u001b[0m     \u001b[1;32mreturn\u001b[0m \u001b[0minner\u001b[0m\u001b[1;33m\u001b[0m\u001b[1;33m\u001b[0m\u001b[0m\n",
      "\u001b[1;32md:\\softwareinstall\\miniconda37\\lib\\site-packages\\pywebio\\utils.py\u001b[0m in \u001b[0;36mrun_as_function\u001b[1;34m(gen)\u001b[0m\n\u001b[0;32m    294\u001b[0m     \u001b[1;32mwhile\u001b[0m \u001b[1;36m1\u001b[0m\u001b[1;33m:\u001b[0m\u001b[1;33m\u001b[0m\u001b[1;33m\u001b[0m\u001b[0m\n\u001b[0;32m    295\u001b[0m         \u001b[1;32mtry\u001b[0m\u001b[1;33m:\u001b[0m\u001b[1;33m\u001b[0m\u001b[1;33m\u001b[0m\u001b[0m\n\u001b[1;32m--> 296\u001b[1;33m             \u001b[0mres\u001b[0m \u001b[1;33m=\u001b[0m \u001b[0mgen\u001b[0m\u001b[1;33m.\u001b[0m\u001b[0msend\u001b[0m\u001b[1;33m(\u001b[0m\u001b[0mres\u001b[0m\u001b[1;33m)\u001b[0m\u001b[1;33m\u001b[0m\u001b[1;33m\u001b[0m\u001b[0m\n\u001b[0m\u001b[0;32m    297\u001b[0m         \u001b[1;32mexcept\u001b[0m \u001b[0mStopIteration\u001b[0m \u001b[1;32mas\u001b[0m \u001b[0me\u001b[0m\u001b[1;33m:\u001b[0m\u001b[1;33m\u001b[0m\u001b[1;33m\u001b[0m\u001b[0m\n\u001b[0;32m    298\u001b[0m             \u001b[1;32mif\u001b[0m \u001b[0mlen\u001b[0m\u001b[1;33m(\u001b[0m\u001b[0me\u001b[0m\u001b[1;33m.\u001b[0m\u001b[0margs\u001b[0m\u001b[1;33m)\u001b[0m \u001b[1;33m==\u001b[0m \u001b[1;36m1\u001b[0m\u001b[1;33m:\u001b[0m\u001b[1;33m\u001b[0m\u001b[1;33m\u001b[0m\u001b[0m\n",
      "\u001b[1;32md:\\softwareinstall\\miniconda37\\lib\\site-packages\\pywebio\\io_ctrl.py\u001b[0m in \u001b[0;36minput_event_handle\u001b[1;34m(item_valid_funcs, form_valid_funcs, preprocess_funcs, onchange_funcs)\u001b[0m\n\u001b[0;32m    321\u001b[0m     \"\"\"\n\u001b[0;32m    322\u001b[0m     \u001b[1;32mwhile\u001b[0m \u001b[1;32mTrue\u001b[0m\u001b[1;33m:\u001b[0m\u001b[1;33m\u001b[0m\u001b[1;33m\u001b[0m\u001b[0m\n\u001b[1;32m--> 323\u001b[1;33m         \u001b[0mevent\u001b[0m \u001b[1;33m=\u001b[0m \u001b[1;32myield\u001b[0m \u001b[0mnext_client_event\u001b[0m\u001b[1;33m(\u001b[0m\u001b[1;33m)\u001b[0m\u001b[1;33m\u001b[0m\u001b[1;33m\u001b[0m\u001b[0m\n\u001b[0m\u001b[0;32m    324\u001b[0m         \u001b[0mevent_name\u001b[0m\u001b[1;33m,\u001b[0m \u001b[0mevent_data\u001b[0m \u001b[1;33m=\u001b[0m \u001b[0mevent\u001b[0m\u001b[1;33m[\u001b[0m\u001b[1;34m'event'\u001b[0m\u001b[1;33m]\u001b[0m\u001b[1;33m,\u001b[0m \u001b[0mevent\u001b[0m\u001b[1;33m[\u001b[0m\u001b[1;34m'data'\u001b[0m\u001b[1;33m]\u001b[0m\u001b[1;33m\u001b[0m\u001b[1;33m\u001b[0m\u001b[0m\n\u001b[0;32m    325\u001b[0m         \u001b[1;32mif\u001b[0m \u001b[0mevent_name\u001b[0m \u001b[1;33m==\u001b[0m \u001b[1;34m'input_event'\u001b[0m\u001b[1;33m:\u001b[0m\u001b[1;33m\u001b[0m\u001b[1;33m\u001b[0m\u001b[0m\n",
      "\u001b[1;32md:\\softwareinstall\\miniconda37\\lib\\site-packages\\pywebio\\session\\__init__.py\u001b[0m in \u001b[0;36minner\u001b[1;34m(*args, **kwargs)\u001b[0m\n\u001b[0;32m    281\u001b[0m             \u001b[1;32mreturn\u001b[0m \u001b[0mto_coroutine\u001b[0m\u001b[1;33m(\u001b[0m\u001b[0mgen\u001b[0m\u001b[1;33m)\u001b[0m\u001b[1;33m\u001b[0m\u001b[1;33m\u001b[0m\u001b[0m\n\u001b[0;32m    282\u001b[0m         \u001b[1;32melse\u001b[0m\u001b[1;33m:\u001b[0m\u001b[1;33m\u001b[0m\u001b[1;33m\u001b[0m\u001b[0m\n\u001b[1;32m--> 283\u001b[1;33m             \u001b[1;32mreturn\u001b[0m \u001b[0mrun_as_function\u001b[0m\u001b[1;33m(\u001b[0m\u001b[0mgen\u001b[0m\u001b[1;33m)\u001b[0m\u001b[1;33m\u001b[0m\u001b[1;33m\u001b[0m\u001b[0m\n\u001b[0m\u001b[0;32m    284\u001b[0m \u001b[1;33m\u001b[0m\u001b[0m\n\u001b[0;32m    285\u001b[0m     \u001b[1;32mreturn\u001b[0m \u001b[0minner\u001b[0m\u001b[1;33m\u001b[0m\u001b[1;33m\u001b[0m\u001b[0m\n",
      "\u001b[1;32md:\\softwareinstall\\miniconda37\\lib\\site-packages\\pywebio\\utils.py\u001b[0m in \u001b[0;36mrun_as_function\u001b[1;34m(gen)\u001b[0m\n\u001b[0;32m    294\u001b[0m     \u001b[1;32mwhile\u001b[0m \u001b[1;36m1\u001b[0m\u001b[1;33m:\u001b[0m\u001b[1;33m\u001b[0m\u001b[1;33m\u001b[0m\u001b[0m\n\u001b[0;32m    295\u001b[0m         \u001b[1;32mtry\u001b[0m\u001b[1;33m:\u001b[0m\u001b[1;33m\u001b[0m\u001b[1;33m\u001b[0m\u001b[0m\n\u001b[1;32m--> 296\u001b[1;33m             \u001b[0mres\u001b[0m \u001b[1;33m=\u001b[0m \u001b[0mgen\u001b[0m\u001b[1;33m.\u001b[0m\u001b[0msend\u001b[0m\u001b[1;33m(\u001b[0m\u001b[0mres\u001b[0m\u001b[1;33m)\u001b[0m\u001b[1;33m\u001b[0m\u001b[1;33m\u001b[0m\u001b[0m\n\u001b[0m\u001b[0;32m    297\u001b[0m         \u001b[1;32mexcept\u001b[0m \u001b[0mStopIteration\u001b[0m \u001b[1;32mas\u001b[0m \u001b[0me\u001b[0m\u001b[1;33m:\u001b[0m\u001b[1;33m\u001b[0m\u001b[1;33m\u001b[0m\u001b[0m\n\u001b[0;32m    298\u001b[0m             \u001b[1;32mif\u001b[0m \u001b[0mlen\u001b[0m\u001b[1;33m(\u001b[0m\u001b[0me\u001b[0m\u001b[1;33m.\u001b[0m\u001b[0margs\u001b[0m\u001b[1;33m)\u001b[0m \u001b[1;33m==\u001b[0m \u001b[1;36m1\u001b[0m\u001b[1;33m:\u001b[0m\u001b[1;33m\u001b[0m\u001b[1;33m\u001b[0m\u001b[0m\n",
      "\u001b[1;32md:\\softwareinstall\\miniconda37\\lib\\site-packages\\pywebio\\session\\__init__.py\u001b[0m in \u001b[0;36mnext_client_event\u001b[1;34m()\u001b[0m\n\u001b[0;32m    288\u001b[0m \u001b[1;33m@\u001b[0m\u001b[0mchose_impl\u001b[0m\u001b[1;33m\u001b[0m\u001b[1;33m\u001b[0m\u001b[0m\n\u001b[0;32m    289\u001b[0m \u001b[1;32mdef\u001b[0m \u001b[0mnext_client_event\u001b[0m\u001b[1;33m(\u001b[0m\u001b[1;33m)\u001b[0m\u001b[1;33m:\u001b[0m\u001b[1;33m\u001b[0m\u001b[1;33m\u001b[0m\u001b[0m\n\u001b[1;32m--> 290\u001b[1;33m     \u001b[0mres\u001b[0m \u001b[1;33m=\u001b[0m \u001b[1;32myield\u001b[0m \u001b[0mget_current_session\u001b[0m\u001b[1;33m(\u001b[0m\u001b[1;33m)\u001b[0m\u001b[1;33m.\u001b[0m\u001b[0mnext_client_event\u001b[0m\u001b[1;33m(\u001b[0m\u001b[1;33m)\u001b[0m\u001b[1;33m\u001b[0m\u001b[1;33m\u001b[0m\u001b[0m\n\u001b[0m\u001b[0;32m    291\u001b[0m     \u001b[1;32mreturn\u001b[0m \u001b[0mres\u001b[0m\u001b[1;33m\u001b[0m\u001b[1;33m\u001b[0m\u001b[0m\n\u001b[0;32m    292\u001b[0m \u001b[1;33m\u001b[0m\u001b[0m\n",
      "\u001b[1;32md:\\softwareinstall\\miniconda37\\lib\\site-packages\\pywebio\\session\\threadbased.py\u001b[0m in \u001b[0;36mnext_client_event\u001b[1;34m(self)\u001b[0m\n\u001b[0;32m    135\u001b[0m         \u001b[0mevent\u001b[0m \u001b[1;33m=\u001b[0m \u001b[0mevent_mq\u001b[0m\u001b[1;33m.\u001b[0m\u001b[0mget\u001b[0m\u001b[1;33m(\u001b[0m\u001b[1;33m)\u001b[0m\u001b[1;33m\u001b[0m\u001b[1;33m\u001b[0m\u001b[0m\n\u001b[0;32m    136\u001b[0m         \u001b[1;32mif\u001b[0m \u001b[0mevent\u001b[0m \u001b[1;32mis\u001b[0m \u001b[1;32mNone\u001b[0m\u001b[1;33m:\u001b[0m\u001b[1;33m\u001b[0m\u001b[1;33m\u001b[0m\u001b[0m\n\u001b[1;32m--> 137\u001b[1;33m             \u001b[1;32mraise\u001b[0m \u001b[0mSessionClosedException\u001b[0m\u001b[1;33m\u001b[0m\u001b[1;33m\u001b[0m\u001b[0m\n\u001b[0m\u001b[0;32m    138\u001b[0m         \u001b[1;32mreturn\u001b[0m \u001b[0mevent\u001b[0m\u001b[1;33m\u001b[0m\u001b[1;33m\u001b[0m\u001b[0m\n\u001b[0;32m    139\u001b[0m \u001b[1;33m\u001b[0m\u001b[0m\n",
      "\u001b[1;31mSessionClosedException\u001b[0m: "
     ]
    }
   ],
   "source": [
    "# Upload a file and save to server                      \n",
    "f = file_upload(\"Upload a image\")                  \n",
    "open(f['filename'], 'wb').write(f['content'])  \n",
    "\n",
    "imgs = file_upload(\"Select some pictures:\", accept=\"image/*\", multiple=True)\n",
    "for img in imgs:\n",
    "    put_image(img['content'])"
   ]
  },
  {
   "cell_type": "code",
   "execution_count": null,
   "id": "20036ed7-a97c-4703-9a59-20ac101de8ed",
   "metadata": {},
   "outputs": [],
   "source": []
  },
  {
   "cell_type": "code",
   "execution_count": null,
   "id": "cab62747-771c-4d3c-bf93-7b88898d69d4",
   "metadata": {},
   "outputs": [],
   "source": []
  }
 ],
 "metadata": {
  "kernelspec": {
   "display_name": "Python 3 (ipykernel)",
   "language": "python",
   "name": "python3"
  },
  "language_info": {
   "codemirror_mode": {
    "name": "ipython",
    "version": 3
   },
   "file_extension": ".py",
   "mimetype": "text/x-python",
   "name": "python",
   "nbconvert_exporter": "python",
   "pygments_lexer": "ipython3",
   "version": "3.7.10"
  }
 },
 "nbformat": 4,
 "nbformat_minor": 5
}
