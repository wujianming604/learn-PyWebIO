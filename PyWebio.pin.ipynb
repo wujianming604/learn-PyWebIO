{
 "cells": [
  {
   "cell_type": "markdown",
   "id": "0091b9f0-9f56-4a68-a3b3-a32d71e6d7fd",
   "metadata": {},
   "source": [
    "## 最基本的文本框pin组件"
   ]
  },
  {
   "cell_type": "code",
   "execution_count": 1,
   "id": "cbe26a3b-76d5-4583-9952-0b8b27d0991f",
   "metadata": {},
   "outputs": [],
   "source": [
    "from pywebio.pin import *\n",
    "from pywebio.output import *\n",
    "from pywebio.pin import *"
   ]
  },
  {
   "cell_type": "code",
   "execution_count": 1,
   "id": "2d4292e3-79a9-4948-9e06-9218f0ae7f8e",
   "metadata": {},
   "outputs": [],
   "source": [
    "#这里要和前面的input区分开来。\n",
    "put_input('input2', label='This is a input widget').show()\n",
    "put_select('select', options=['A', 'B', 'C']).show()\n",
    "#最基本的文本框pin组件.mp4"
   ]
  },
  {
   "cell_type": "code",
   "execution_count": 1,
   "id": "7fdb3109-0d31-48bc-b5c1-310cabd2735e",
   "metadata": {},
   "outputs": [],
   "source": [
    "with use_scope('search-area'):\n",
    "    put_input('search', placeholder='Search')\n",
    "    \n",
    "    \n",
    "put_row([\n",
    "    put_input('input'),\n",
    "    put_select('select', options=['A', 'B', 'C'])\n",
    "])\n",
    "\n",
    "\n",
    "with use_scope('search-area'):\n",
    "    put_input('search_2', placeholder='Search-2')\n",
    "    put_row([\n",
    "    put_input('input_2'),\n",
    "    put_select('select_2', options=['D', 'E', 'F'])\n",
    "])"
   ]
  },
  {
   "attachments": {
    "2aaba0aa-adab-4e60-8f74-9712fe9c7627.png": {
     "image/png": "[encoded data removed]"
    }
   },
   "cell_type": "markdown",
   "id": "e0f384e7-bcbb-4d91-a4d5-f36982223c8f",
   "metadata": {},
   "source": [
    "![1.png](attachment:2aaba0aa-adab-4e60-8f74-9712fe9c7627.png)"
   ]
  },
  {
   "cell_type": "code",
   "execution_count": 1,
   "id": "1b640f0f-d00e-484a-b562-cfab949bb285",
   "metadata": {},
   "outputs": [],
   "source": [
    "## 获取pin组件的值\n",
    "put_input('pin_name')\n",
    "put_buttons(['Get Pin Value'], lambda _: put_text(pin.pin_name)).show()\n",
    "#获取pin组件的值.mp4"
   ]
  },
  {
   "cell_type": "markdown",
   "id": "b0b01410-065e-46eb-b20c-312cf01ba27f",
   "metadata": {},
   "source": [
    "## pin_wait_change 监听pin组件的变化"
   ]
  },
  {
   "cell_type": "code",
   "execution_count": 7,
   "id": "3d525986-dcac-429f-a33c-35234c5b6920",
   "metadata": {},
   "outputs": [],
   "source": [
    "put_input('a', type='number', value=0)\n",
    "put_input('b', type='number', value=0)\n",
    "\n",
    "while True:\n",
    "    changed = pin_wait_change('a', 'b')\n",
    "    with use_scope('res', clear=True):\n",
    "        put_code(changed)\n",
    "        put_text(\"a + b = %s\" % (pin.a + pin.b))\n",
    "#监听pin组件的变化.mp4"
   ]
  },
  {
   "cell_type": "markdown",
   "id": "376d2488-d0f6-4127-893a-e58f10693f2a",
   "metadata": {},
   "source": [
    "## pin_update 更新pin组件的输出属性"
   ]
  },
  {
   "cell_type": "code",
   "execution_count": 2,
   "id": "046156cb-230a-4487-aada-874c95f517af",
   "metadata": {},
   "outputs": [],
   "source": [
    "put_input('c', type='number', value=0, help_text=\"你动我试试？\").show()"
   ]
  },
  {
   "attachments": {
    "1f0a2d94-68b7-4d18-b97b-c3877a2d63e5.png": {
     "image/png": "[encoded data removed]"
    }
   },
   "cell_type": "markdown",
   "id": "162dea84-9984-4a16-9713-391c97d23180",
   "metadata": {},
   "source": [
    "![image.png](attachment:1f0a2d94-68b7-4d18-b97b-c3877a2d63e5.png)"
   ]
  },
  {
   "cell_type": "code",
   "execution_count": 3,
   "id": "bcaf697e-9bc6-406f-a406-102037358319",
   "metadata": {},
   "outputs": [],
   "source": [
    "pin_update('c', value=1, help_text=\"试试就试试！\")"
   ]
  },
  {
   "attachments": {
    "e73d95f1-d055-44f3-a59c-7a25ef2ce094.png": {
     "image/png": "[encoded data removed]"
    }
   },
   "cell_type": "markdown",
   "id": "5c15d6f1-10ad-4fd7-a482-f5a383849c8e",
   "metadata": {},
   "source": [
    "![image.png](attachment:e73d95f1-d055-44f3-a59c-7a25ef2ce094.png)"
   ]
  },
  {
   "cell_type": "code",
   "execution_count": null,
   "id": "c7c139b5-092a-4133-929b-139be1dc21be",
   "metadata": {},
   "outputs": [],
   "source": []
  },
  {
   "cell_type": "code",
   "execution_count": null,
   "id": "e33fa2c5-fbc0-4f78-bd17-9d24d21842f1",
   "metadata": {},
   "outputs": [],
   "source": []
  }
 ],
 "metadata": {
  "kernelspec": {
   "display_name": "Python 3 (ipykernel)",
   "language": "python",
   "name": "python3"
  },
  "language_info": {
   "codemirror_mode": {
    "name": "ipython",
    "version": 3
   },
   "file_extension": ".py",
   "mimetype": "text/x-python",
   "name": "python",
   "nbconvert_exporter": "python",
   "pygments_lexer": "ipython3",
   "version": "3.7.10"
  }
 },
 "nbformat": 4,
 "nbformat_minor": 5
}
